{
 "cells": [
  {
   "cell_type": "markdown",
   "id": "d3bfc191-8885-42ee-b0a0-bbab867c6f9f",
   "metadata": {
    "tags": []
   },
   "source": [
    "# Lab | Flow Control"
   ]
  },
  {
   "cell_type": "code",
   "execution_count": 1,
   "id": "243b4aad",
   "metadata": {},
   "outputs": [],
   "source": [
    "## Exercise: Managing Customer Orders Optimized\n",
    "\n",
    "#In the last lab, you were starting an online store that sells various products. To ensure smooth operations, you developed a program that \n",
    "#manages customer orders and inventory.\n",
    "\n",
    "#You did so without using flow control. Let's go a step further and improve this code.\n",
    "\n",
    "#Follow the steps below to complete the exercise:"
   ]
  },
  {
   "cell_type": "markdown",
   "id": "3851fcd1-cf98-4653-9c89-e003b7ec9400",
   "metadata": {},
   "source": [
    "1. Look at your code from the lab data structures, and improve repeated code with loops."
   ]
  },
  {
   "cell_type": "code",
   "execution_count": 1,
   "id": "6cc2f0e7",
   "metadata": {},
   "outputs": [],
   "source": [
    "inventory = {'t-shirt': 1, 'mug': 2, 'hat': 3, 'book': 4, 'keychain': 5}"
   ]
  },
  {
   "cell_type": "code",
   "execution_count": 1,
   "id": "17fcfc2a",
   "metadata": {},
   "outputs": [
    {
     "name": "stdout",
     "output_type": "stream",
     "text": [
      "{'t-shirt': 0, 'mug': 1, 'hat': 2, 'book': 3, 'keychain': 4}\n"
     ]
    }
   ],
   "source": [
    "for key in inventory:\n",
    "        inventory[key] -= 1\n",
    "\n",
    "\n",
    "print(inventory)"
   ]
  },
  {
   "cell_type": "code",
   "execution_count": 3,
   "id": "57a53d67",
   "metadata": {},
   "outputs": [],
   "source": [
    "#2. Instead of asking the user to input the name of three products that a customer wants to order, do the following:\n",
    "    \n",
    "#    a. Prompt the user to enter the name of a product that a customer wants to order.\n",
    "#    b. Add the product name to the \"customer_orders\" set.\n",
    "#    c. Ask the user if they want to add another product (yes/no).\n",
    "#    d. Continue the loop until the user does not want to add another product."
   ]
  },
  {
   "cell_type": "code",
   "execution_count": 2,
   "id": "62eb0f9f",
   "metadata": {},
   "outputs": [
    {
     "name": "stdout",
     "output_type": "stream",
     "text": [
      "{'mug', 'hat', 'keychain'}\n"
     ]
    }
   ],
   "source": [
    "#PREVIOUS CODE\n",
    "\n",
    "customer_orders = set()\n",
    "\n",
    "customer_orders.add(input(\"Please choose item 1 of 3 from our available items\"))\n",
    "customer_orders.add(input(\"Please choose item 2 of 3 from our available items\"))\n",
    "customer_orders.add(input(\"Please choose item 3 of 3 from our available items\"))\n",
    "\n",
    "print(customer_orders)"
   ]
  },
  {
   "cell_type": "code",
   "execution_count": 3,
   "id": "1cc9df5e",
   "metadata": {},
   "outputs": [
    {
     "name": "stdout",
     "output_type": "stream",
     "text": [
      "You have reached the maximum amount of products\n",
      "Please click here to proceed to payment\n"
     ]
    }
   ],
   "source": [
    "customer_intent = \"yes\"\n",
    "\n",
    "while customer_intent == \"yes\":\n",
    "    if len(customer_orders) < len(inventory):\n",
    "        new_order_1 = input(\"What product do you want to order?\")\n",
    "        if new_order_1 in inventory:\n",
    "            customer_orders.add(new_order_1)\n",
    "            customer_intent = input(\"Would you like to add another product to your basket?\")\n",
    "        else:\n",
    "            print(\"Sorry, this product is not available for purchase\")\n",
    "            customer_intent = input(\"Would you like to add another product to your basket?\")\n",
    "    else:\n",
    "        print(\"You have reached the maximum amount of products\")\n",
    "        break\n",
    "print(\"Please click here to proceed to payment\")"
   ]
  },
  {
   "cell_type": "code",
   "execution_count": 4,
   "id": "fefebdc7",
   "metadata": {},
   "outputs": [
    {
     "name": "stdout",
     "output_type": "stream",
     "text": [
      "{'mug', 'keychain', 't-shirt', 'hat', 'book'}\n"
     ]
    }
   ],
   "source": [
    "print(customer_orders)"
   ]
  },
  {
   "cell_type": "code",
   "execution_count": 7,
   "id": "1cc3c016",
   "metadata": {},
   "outputs": [],
   "source": [
    "#3. Instead of updating the inventory by subtracting 1 from the quantity of each product, only do it for  the products that were ordered \n",
    "#(those in \"customer_orders\")."
   ]
  },
  {
   "cell_type": "code",
   "execution_count": 5,
   "id": "822e3b12",
   "metadata": {},
   "outputs": [
    {
     "name": "stdout",
     "output_type": "stream",
     "text": [
      "{'t-shirt': -1, 'mug': 0, 'hat': 1, 'book': 2, 'keychain': 3}\n"
     ]
    }
   ],
   "source": [
    "customer_orders = list(customer_orders)\n",
    "\n",
    "\n",
    "for key in inventory:\n",
    "    if key in customer_orders:\n",
    "        inventory[key] -= 1\n",
    "        inventory[key] <=0\n",
    "    else:\n",
    "        break\n",
    "\n",
    "\n",
    "print(inventory)"
   ]
  }
 ],
 "metadata": {
  "kernelspec": {
   "display_name": "Python 3 (ipykernel)",
   "language": "python",
   "name": "python3"
  },
  "language_info": {
   "codemirror_mode": {
    "name": "ipython",
    "version": 3
   },
   "file_extension": ".py",
   "mimetype": "text/x-python",
   "name": "python",
   "nbconvert_exporter": "python",
   "pygments_lexer": "ipython3",
   "version": "3.11.4"
  }
 },
 "nbformat": 4,
 "nbformat_minor": 5
}
